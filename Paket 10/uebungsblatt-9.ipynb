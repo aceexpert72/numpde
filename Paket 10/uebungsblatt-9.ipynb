{
 "cells": [
  {
   "cell_type": "markdown",
   "metadata": {},
   "source": [
    "# Übungsblatt 9"
   ]
  },
  {
   "cell_type": "code",
   "execution_count": 1,
   "metadata": {},
   "outputs": [],
   "source": [
    "import numpy as np\n",
    "import matplotlib.pyplot as plt \n",
    "import math \n",
    "from objdict import ObjDict\n",
    "from FEMesh import *\n",
    "from functions import *\n",
    "import scipy.sparse as sp\n",
    "\n",
    "%load_ext autoreload\n",
    "%autoreload 2"
   ]
  },
  {
   "cell_type": "markdown",
   "metadata": {},
   "source": [
    "## Aufgabe 2.1\n",
    "\n",
    "Element-Speichermatrix: Implementieren Sie die Matlab-Funktion\n",
    "\n",
    "function meFunc = heatMe(rho, c)"
   ]
  },
  {
   "cell_type": "code",
   "execution_count": 1,
   "metadata": {},
   "outputs": [],
   "source": [
    "def heatMe(rho, c):\n",
    "    def computeMe(x):\n",
    "        u = x[:, 1] - x[:, 0]\n",
    "        v = x[:, 2] - x[:, 1]\n",
    "        Ae = abs(1/2 * (u[0]*v[1] - u[1]*v[0]))\n",
    "        I = np.array([[2, 1, 1], [1, 2, 1], [1, 1, 2]])\n",
    "        Me = 1/12 * rho * c * Ae * I\n",
    "        return Me\n",
    "    return computeMe\n"
   ]
  },
  {
   "cell_type": "markdown",
   "metadata": {},
   "source": [
    "## Aufgabe 2.2\n",
    "\n",
    "Globale Speichermatrix: Erstellen Sie die Matlab-Funktion\n",
    "\n",
    "function [K, M, r] = assembleKMr(m)"
   ]
  },
  {
   "cell_type": "code",
   "execution_count": null,
   "metadata": {},
   "outputs": [],
   "source": [
    "def assembleKMr(m):\n",
    "    k = m.elements.shape[1]\n",
    "    N = m.nodes.shape[1]\n",
    "    K = np.zeros([N, N])\n",
    "    M = np.zeros([N, N])\n",
    "    r = np.zeros([N])\n",
    "    for e in range(k):\n",
    "        Ie = m.elements[:, e]\n",
    "        xe = m.nodes[:, Ie]\n",
    "        Ke = m.p.keFunc(xe)\n",
    "        Me = m.p.meFunc(xe)\n",
    "        re = m.p.reFunc(xe)\n",
    "        K[np.ix_(Ie, Ie)] += Ke\n",
    "        M[np.ix_(Ie, Ie)] += Me\n",
    "        r[Ie] += re\n",
    "        \n",
    "    return K, M, r"
   ]
  },
  {
   "cell_type": "markdown",
   "metadata": {},
   "source": [
    "## Aufgabe 2.3\n",
    "\n",
    "Verifizieren Sie Ihren Code mit dem auf Moodle bereitgestellten Testproblem."
   ]
  },
  {
   "cell_type": "code",
   "execution_count": null,
   "metadata": {},
   "outputs": [],
   "source": []
  }
 ],
 "metadata": {
  "kernelspec": {
   "display_name": "Python 3",
   "language": "python",
   "name": "python3"
  },
  "language_info": {
   "codemirror_mode": {
    "name": "ipython",
    "version": 3
   },
   "file_extension": ".py",
   "mimetype": "text/x-python",
   "name": "python",
   "nbconvert_exporter": "python",
   "pygments_lexer": "ipython3",
   "version": "3.10.10"
  }
 },
 "nbformat": 4,
 "nbformat_minor": 2
}
