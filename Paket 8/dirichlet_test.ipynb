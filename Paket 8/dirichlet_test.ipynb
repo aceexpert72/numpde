{
 "cells": [
  {
   "cell_type": "markdown",
   "metadata": {},
   "source": [
    "# Test Dirichlet BCs"
   ]
  },
  {
   "cell_type": "code",
   "execution_count": 3,
   "metadata": {},
   "outputs": [
    {
     "name": "stdout",
     "output_type": "stream",
     "text": [
      "The autoreload extension is already loaded. To reload it, use:\n",
      "  %reload_ext autoreload\n",
      "Vorher\n",
      "K =\n",
      " [[ 1  2  3  4  5]\n",
      " [ 6  7  8  9 10]\n",
      " [11 12 13 14 15]\n",
      " [16 17 18 19 20]\n",
      " [21 22 23 24 25]]\n",
      "r =\n",
      " [1 2 3 4 5]\n",
      "Nachher\n",
      "K =\n",
      " [[ 1  2  3  4  5]\n",
      " [ 0  1  0  0  0]\n",
      " [11 12 13 14 15]\n",
      " [ 0  0  0  1  0]\n",
      " [21 22 23 24 25]]\n",
      "r =\n",
      " [1 0 3 0 5]\n"
     ]
    }
   ],
   "source": [
    "%load_ext autoreload\n",
    "%autoreload 2\n",
    "\n",
    "from fem import *\n",
    "\n",
    "K = np.arange(1, 26).reshape(5, 5)\n",
    "r = np.arange(1, 6)\n",
    "\n",
    "print('Vorher')\n",
    "print('K =\\n', K)\n",
    "print('r =\\n', r)\n",
    "\n",
    "applyDirichletBCs([1, 3], K, r)\n",
    "\n",
    "print('Nachher')\n",
    "print('K =\\n', K)\n",
    "print('r =\\n', r)"
   ]
  },
  {
   "cell_type": "code",
   "execution_count": null,
   "metadata": {},
   "outputs": [],
   "source": []
  }
 ],
 "metadata": {
  "interpreter": {
   "hash": "f3d2abbc107c63ca577c819933080c8e0aff9672750e85650b4bb8da95fe96d1"
  },
  "kernelspec": {
   "display_name": "Python 3.9.9 64-bit ('venv': venv)",
   "language": "python",
   "name": "python3"
  },
  "language_info": {
   "codemirror_mode": {
    "name": "ipython",
    "version": 3
   },
   "file_extension": ".py",
   "mimetype": "text/x-python",
   "name": "python",
   "nbconvert_exporter": "python",
   "pygments_lexer": "ipython3",
   "version": "3.9.13"
  },
  "orig_nbformat": 4
 },
 "nbformat": 4,
 "nbformat_minor": 2
}
