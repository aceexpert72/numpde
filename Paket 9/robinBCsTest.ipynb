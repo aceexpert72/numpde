{
 "cells": [
  {
   "cell_type": "markdown",
   "metadata": {},
   "source": [
    "# Test implementation of Robin BCs"
   ]
  },
  {
   "cell_type": "code",
   "execution_count": 15,
   "metadata": {},
   "outputs": [
    {
     "name": "stdout",
     "output_type": "stream",
     "text": [
      "The autoreload extension is already loaded. To reload it, use:\n",
      "  %reload_ext autoreload\n"
     ]
    }
   ],
   "source": [
    "#from heat import *\n",
    "import numpy as np\n",
    "\n",
    "%load_ext autoreload\n",
    "%autoreload 2"
   ]
  },
  {
   "cell_type": "markdown",
   "metadata": {},
   "source": [
    "## Prepare"
   ]
  },
  {
   "cell_type": "code",
   "execution_count": 16,
   "metadata": {},
   "outputs": [],
   "source": [
    "x = np.array([[1.1, 3.2], [0.2, 5.8]])\n",
    "ree = np.array([14.802486488762620, 14.802486488762620])\n",
    "kee = np.array([[6.578882883894498, 3.289441441947249], [3.289441441947249, 6.578882883894498]])\n",
    "\n",
    "\n"
   ]
  },
  {
   "cell_type": "markdown",
   "metadata": {},
   "source": [
    "## Test robinRe"
   ]
  },
  {
   "cell_type": "code",
   "execution_count": 22,
   "metadata": {},
   "outputs": [
    {
     "name": "stdout",
     "output_type": "stream",
     "text": [
      "re = [14.80248649 14.80248649]\n",
      "Should be zero: 2.5121479338940403e-15\n"
     ]
    }
   ],
   "source": [
    "def robinRe(h, ts):\n",
    "    def computeRe(x):\n",
    "        u = x[:,1] - x[:,0]\n",
    "        le = np.linalg.norm(u)\n",
    "        Re = (h * le * ts)/2 * np.array([ 1 , 1 ])\n",
    "        return Re\n",
    "    return computeRe\n",
    "\n",
    "reFunc = robinRe(3.3,1.5)\n",
    "Re = reFunc(x)\n",
    "\n",
    "print('re =', Re)\n",
    "print('Should be zero:', np.linalg.norm(Re - ree))"
   ]
  },
  {
   "cell_type": "markdown",
   "metadata": {},
   "source": [
    "## Test robinKe"
   ]
  },
  {
   "cell_type": "code",
   "execution_count": null,
   "metadata": {},
   "outputs": [
    {
     "name": "stdout",
     "output_type": "stream",
     "text": [
      "re = [[6.57888288 3.28944144]\n",
      " [3.28944144 6.57888288]]\n",
      "Should be zero: 0.0\n"
     ]
    }
   ],
   "source": [
    "def robinKe(h):\n",
    "    def computeKe(x):\n",
    "        u = x[:,1] - x[:,0]\n",
    "        le = np.linalg.norm(u)\n",
    "        Ke = (h * le)/6 * np.array([[2, 1],[1, 2]])\n",
    "        return Ke\n",
    "    return computeKe\n",
    "\n",
    "KeFunc = robinKe(3.3)\n",
    "Ke = keFunc(x)\n",
    "print('Ke =', Ke)\n",
    "print('Should be zero:', np.linalg.norm(ke - kee))"
   ]
  },
  {
   "cell_type": "code",
   "execution_count": null,
   "metadata": {},
   "outputs": [],
   "source": []
  }
 ],
 "metadata": {
  "interpreter": {
   "hash": "f3d2abbc107c63ca577c819933080c8e0aff9672750e85650b4bb8da95fe96d1"
  },
  "kernelspec": {
   "display_name": "Python 3.9.9 64-bit ('venv': venv)",
   "language": "python",
   "name": "python3"
  },
  "language_info": {
   "codemirror_mode": {
    "name": "ipython",
    "version": 3
   },
   "file_extension": ".py",
   "mimetype": "text/x-python",
   "name": "python",
   "nbconvert_exporter": "python",
   "pygments_lexer": "ipython3",
   "version": "3.10.10"
  },
  "orig_nbformat": 4
 },
 "nbformat": 4,
 "nbformat_minor": 2
}
