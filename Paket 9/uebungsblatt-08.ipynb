{
 "cells": [
  {
   "cell_type": "markdown",
   "metadata": {},
   "source": [
    "# Übungsblatt 8"
   ]
  },
  {
   "cell_type": "code",
   "execution_count": null,
   "metadata": {},
   "outputs": [],
   "source": [
    "import numpy as np\n",
    "import matplotlib.pyplot as plt \n",
    "import math \n",
    "from objdict import ObjDict\n",
    "from FEMesh import *\n",
    "from functions import *\n",
    "import scipy.sparse as sp\n",
    "\n",
    "%load_ext autoreload\n",
    "%autoreload 2"
   ]
  },
  {
   "cell_type": "markdown",
   "metadata": {},
   "source": [
    "## Aufgabe 1.1\n",
    "\n",
    "Implementieren robinKe(h) und robinRe(h,ts)"
   ]
  },
  {
   "cell_type": "code",
   "execution_count": null,
   "metadata": {},
   "outputs": [],
   "source": [
    "from functions import robinKe\n",
    "from functions import robinRe"
   ]
  },
  {
   "cell_type": "markdown",
   "metadata": {},
   "source": [
    "## Aufgabe 1.2\n",
    "\n",
    "Uberprüfen Sie ihr Programm für unterschiedliche Materialparameter und Robin-\n",
    "Randbedingungen anhand des Rechenbeispiels"
   ]
  },
  {
   "cell_type": "code",
   "execution_count": null,
   "metadata": {},
   "outputs": [],
   "source": [
    "m1 = readmsh('gmsh/wall.msh')\n",
    "m1.plot()\n",
    "\n",
    "hi = 1/0.13\n",
    "ha = 1/0.04\n",
    "tsi = 20.0\n",
    "tsa = -10.0\n",
    "\n",
    "m1.groups.s1.p.keFunc = heatKe(0.7)\n",
    "m1.groups.s2.p.keFunc = heatKe(0.24)\n",
    "m1.groups.s3.p.keFunc = heatKe(0.87)\n",
    "\n",
    "m1.groups.wi.p.keFunc = robinKe(hi)\n",
    "m1.groups.wi.p.reFunc = robinRe(hi,tsi)\n",
    "m1.groups.wa.p.keFunc = robinKe(ha)\n",
    "m1.groups.wa.p.reFunc = robinRe(ha,tsa)\n",
    "\n",
    "K, r = assembleKr_gmsh_complex(m1)\n",
    "plt.spy(K)\n",
    "\n",
    "thetaHat = sp.linalg.spsolve(sp.csr_matrix(K), r)\n",
    "\n",
    "m1.plot(thetaHat)"
   ]
  },
  {
   "cell_type": "markdown",
   "metadata": {},
   "source": [
    "## Aufgabe 1.3\n",
    "\n",
    "Berechnen Sie die Temperaturverteilung für eine praxisnahe Wärmebrücke"
   ]
  },
  {
   "cell_type": "code",
   "execution_count": null,
   "metadata": {},
   "outputs": [],
   "source": [
    "m2 = readmsh('gmsh/attika.msh')\n",
    "m2.plot()\n",
    "\n",
    "hi = 1/0.13\n",
    "ha = 1/0.04\n",
    "tsi = 20.0\n",
    "tsa = -5.0\n",
    "\n",
    "m2.groups.sd.p.keFunc = heatKe(0.01)\n",
    "m2.groups.sc.p.keFunc = heatKe(0.24)\n",
    "m2.groups.wi.p.keFunc = robinKe(hi)\n",
    "m2.groups.wi.p.reFunc = robinRe(hi,tsi)\n",
    "m2.groups.wa.p.keFunc = robinKe(ha)\n",
    "m2.groups.wa.p.reFunc = robinRe(ha,tsa)\n",
    "\n",
    "\n",
    "K, r = assembleKr_gmsh_complex(m2)\n",
    "plt.spy(K)\n",
    "\n",
    "thetaHat = sp.linalg.spsolve(sp.csr_matrix(K), r)\n",
    "\n",
    "m2.plot(thetaHat)"
   ]
  },
  {
   "cell_type": "markdown",
   "metadata": {},
   "source": []
  },
  {
   "cell_type": "markdown",
   "metadata": {},
   "source": []
  }
 ],
 "metadata": {
  "kernelspec": {
   "display_name": "Python 3",
   "language": "python",
   "name": "python3"
  },
  "language_info": {
   "codemirror_mode": {
    "name": "ipython",
    "version": 3
   },
   "file_extension": ".py",
   "mimetype": "text/x-python",
   "name": "python",
   "nbconvert_exporter": "python",
   "pygments_lexer": "ipython3",
   "version": "3.10.10"
  }
 },
 "nbformat": 4,
 "nbformat_minor": 2
}
