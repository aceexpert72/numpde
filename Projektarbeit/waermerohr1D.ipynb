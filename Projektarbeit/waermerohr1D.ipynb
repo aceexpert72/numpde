{
 "cells": [
  {
   "cell_type": "markdown",
   "metadata": {},
   "source": [
    "# Wärme Rohr 1D 24.07.2024"
   ]
  },
  {
   "cell_type": "code",
   "execution_count": 2,
   "metadata": {},
   "outputs": [
    {
     "name": "stdout",
     "output_type": "stream",
     "text": [
      "The autoreload extension is already loaded. To reload it, use:\n",
      "  %reload_ext autoreload\n"
     ]
    }
   ],
   "source": [
    "import numpy as np\n",
    "import matplotlib.pyplot as plt \n",
    "import math \n",
    "from objdict import ObjDict\n",
    "from FEMesh import *\n",
    "from functions import *\n",
    "import scipy.sparse as sp\n",
    "\n",
    "%load_ext autoreload\n",
    "%autoreload 2\n"
   ]
  },
  {
   "cell_type": "markdown",
   "metadata": {},
   "source": [
    "## Numerische Lösung \n",
    "\n",
    "\\begin{aligned}\n",
    "& C \\times v \\times \\sum_{\\mathrm{j}} \\int_0^1 \\varphi_{\\mathrm{j}} \\times \\varphi_{\\mathrm{i}} d x \\times \\mathrm{T}_{\\mathrm{j}}(t)+\\mathrm{C} \\times \\mathrm{v} \\times \\sum_{\\mathrm{j}} \\int_0^1 \\varphi_{\\mathrm{j}} \\times \\varphi_{\\mathrm{i}} \\mathrm{dx} \\times \\mathrm{T}_{\\mathrm{j}}(\\mathrm{t})+\\alpha \\times \\varphi_{\\mathrm{i}}(0) \\times \\\\\n",
    "& \\varphi_{\\mathrm{j}}(0) \\times \\mathrm{T}_{\\mathrm{j}}(\\mathrm{t})=\\alpha \\times \\widehat{\\mathrm{T}} \\times \\varphi_{\\mathrm{i}}(0)+\\mathrm{q} \\times \\int_0^1 \\varphi_{\\mathrm{i}} \\mathrm{dx}\n",
    "\\end{aligned}"
   ]
  },
  {
   "cell_type": "markdown",
   "metadata": {},
   "source": [
    "\n",
    "\\begin{gathered}\n",
    "Gleichung: \\mathrm{M} \\times \\mathrm{T}+\\mathrm{A} \\times \\mathrm{T}=\\mathrm{r} \\\\\n",
    "\\\\\n",
    "Mit: \\\\\n",
    "\\mathrm{M}_{\\mathrm{ij}}=\\int \\varphi_{\\mathrm{j}} \\times \\varphi_{\\mathrm{i}} \\\\\n",
    "\\mathrm{A}_{\\mathrm{ij}}=\\int \\varphi_{\\mathrm{i}} \\times \\varphi_{\\mathrm{j}}^{\\prime} \\mathrm{dx}+\\alpha \\times \\mathrm{S}_{\\mathrm{ij}} \\\\\n",
    "\\mathrm{S}_{\\mathrm{ij}}=1(\\text { for } \\mathrm{i}=\\mathrm{j}=1) \\\\\n",
    "\\mathrm{S}_{\\mathrm{ij}}=0\n",
    "\\end{gathered}"
   ]
  },
  {
   "cell_type": "markdown",
   "metadata": {},
   "source": [
    "## Programmierung der numerischen 1D Lösung "
   ]
  },
  {
   "cell_type": "code",
   "execution_count": 3,
   "metadata": {},
   "outputs": [],
   "source": [
    "A = 0.00114  # m^2\n",
    "c = 4190     # SHC J/kg*K\n",
    "rho = 1000   # kg/m^3\n",
    "C = A * rho * c #Simplify\n",
    "alpha = 1e10 # Penalty factor\n",
    "q = 100      # Heat flow W/m\n",
    "v = 1        # Velocity m/s\n",
    "l = 1        # Rod Length\n",
    "n = 20       # Nodes\n"
   ]
  },
  {
   "cell_type": "markdown",
   "metadata": {},
   "source": [
    "### Funktionen"
   ]
  },
  {
   "cell_type": "code",
   "execution_count": 4,
   "metadata": {},
   "outputs": [],
   "source": [
    "def compute_M(n, l, C):\n",
    "    M = np.zeros((n, n))\n",
    "    h = l / (n - 1)\n",
    "    for i in range(n):\n",
    "        for j in range(n):\n",
    "            if i == j:\n",
    "                M[i, j] = C * h / 3\n",
    "            if abs(i - j) == 1:\n",
    "                M[i, j] = C * h / 6\n",
    "    return M\n",
    "\n",
    "def compute_A(n, l, C, v, alpha):\n",
    "    A = np.zeros((n, n))\n",
    "    h = l / (n - 1)\n",
    "    for i in range(n):\n",
    "        for j in range(n):\n",
    "            if i == j:\n",
    "                A[i, j] = C * v / h + (alpha if i == 0 and j == 0 else 0)\n",
    "            if abs(i - j) == 1:\n",
    "                A[i, j] = -C * v / h / 2\n",
    "    return A\n",
    "\n",
    "def compute_S(n, alpha):\n",
    "    S = np.zeros((n, n))\n",
    "    S[0, 0] = alpha\n",
    "    return S\n",
    "\n",
    "def compute_r(n, l, q, T0, alpha):\n",
    "    r = np.zeros(n)\n",
    "    r[0] = alpha * T0\n",
    "    h = l / (n - 1)\n",
    "    for i in range(n):\n",
    "        r[i] += q * h / 2  \n",
    "    return r"
   ]
  },
  {
   "cell_type": "markdown",
   "metadata": {},
   "source": [
    "### Temperatur über Zeit"
   ]
  },
  {
   "cell_type": "code",
   "execution_count": null,
   "metadata": {},
   "outputs": [],
   "source": [
    "dt = 0.01   \n",
    "time = 100  \n",
    "no_steps = int(time / dt) \n",
    "\n",
    "M = compute_M(n, l, C)\n",
    "A = compute_A(n, l, C, v, alpha)\n",
    "r = compute_r(n, l, q, 20, alpha)\n",
    "\n",
    "T = np.zeros(n)\n",
    "T[0] = 20  # Initial condition at x = 0, 20 degrees Celsius\n",
    "\n",
    "temperature_hat = np.zeros((no_steps + 1, n))\n",
    "temperature_hat[0, :] = T\n",
    "\n",
    "for step in range(1, num_steps + 1):\n",
    "    LHS = M + dt * A  # Left-hand side of the equation\n",
    "    RHS = M @ T + dt * r  # Right-hand side of the equation\n",
    "    T = np.linalg.solve(LHS, RHS)  # Solve for T at the next time step\n",
    "    temperature_profile[step, :] = T  # Store temperatures"
   ]
  }
 ],
 "metadata": {
  "language_info": {
   "name": "python"
  }
 },
 "nbformat": 4,
 "nbformat_minor": 2
}
