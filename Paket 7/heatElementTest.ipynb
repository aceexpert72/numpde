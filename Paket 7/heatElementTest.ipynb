{
 "cells": [
  {
   "cell_type": "markdown",
   "metadata": {},
   "source": [
    "# Test der Elementfunktionen Wärmeleitung 2D"
   ]
  },
  {
   "cell_type": "code",
   "execution_count": 4,
   "metadata": {},
   "outputs": [],
   "source": [
    "import numpy as np\n",
    "%load_ext autoreload\n",
    "%autoreload 2"
   ]
  },
  {
   "cell_type": "markdown",
   "metadata": {},
   "source": [
    "## Knoten eines Elements"
   ]
  },
  {
   "cell_type": "code",
   "execution_count": 5,
   "metadata": {},
   "outputs": [],
   "source": [
    "x = np.array([[0.0, 1.2, 0.3], [0.1, 0.2, 2.5]])"
   ]
  },
  {
   "cell_type": "markdown",
   "metadata": {},
   "source": [
    "## Referenzwerte"
   ]
  },
  {
   "cell_type": "code",
   "execution_count": 6,
   "metadata": {},
   "outputs": [],
   "source": [
    "keRef = np.array(\n",
    "    [[ 1.39122807, -1.19736842, -0.19385965],\n",
    "    [-1.19736842,  1.33421053, -0.13684211],\n",
    "    [-0.19385965, -0.13684211,  0.33070175]]\n",
    ")\n",
    "reRef = np.array([1.9475, 1.9475, 1.9475])"
   ]
  },
  {
   "cell_type": "markdown",
   "metadata": {},
   "source": [
    "## Berechnung und Vergleich"
   ]
  },
  {
   "cell_type": "markdown",
   "metadata": {},
   "source": [
    "### Elementmatrix"
   ]
  },
  {
   "cell_type": "code",
   "execution_count": 10,
   "metadata": {},
   "outputs": [
    {
     "name": "stdout",
     "output_type": "stream",
     "text": [
      "Be = [[ 0.80701754 -0.84210526  0.03508772]\n",
      " [ 0.31578947  0.10526316 -0.42105263]]\n",
      "Ke = [[ 1.39122807 -1.19736842 -0.19385965]\n",
      " [-1.19736842  1.33421053 -0.13684211]\n",
      " [-0.19385965 -0.13684211  0.33070175]]\n",
      "--> Elementmatrix OK\n"
     ]
    }
   ],
   "source": [
    "#from heat import *\n",
    "x = np.array([[0.0, 1.2, 0.3], [0.1, 0.2, 2.5]])\n",
    "\n",
    "def heatKe (lambder):\n",
    "    def computeKe(x):\n",
    "        Ke = np.zeros([3,3])\n",
    "        u = x[:,1] - x[:,0]\n",
    "        v = x[:,2] - x[:,1]\n",
    "        w = x[:,0] - x[:,2]\n",
    "        Ae = 1/2 * np.abs(np.cross(u,v))\n",
    "        Be = 1/(2*Ae) * np.array([[v[1],w[1],u[1]],[-v[0],-w[0],-u[0]]])\n",
    "        print('Be =',Be)\n",
    "        #print('BeT =',Be.T)\n",
    "        #print(np.dot(Be,Be.T))\n",
    "        Ke = lambder * Ae * np.dot(Be.T,Be) \n",
    "        #print('Ke =',Ke)\n",
    "        return Ke\n",
    "    return computeKe\n",
    "\n",
    "kef = heatKe(1.3)\n",
    "ke = kef(x)\n",
    "\n",
    "print('Ke =', ke)\n",
    "if np.linalg.norm(ke - keRef) < 1e-8:\n",
    "    print('--> Elementmatrix OK')\n",
    "else:\n",
    "    print('--> Elementmatrix nicht OK')"
   ]
  },
  {
   "cell_type": "markdown",
   "metadata": {},
   "source": [
    "### Elementvektor"
   ]
  },
  {
   "cell_type": "code",
   "execution_count": 9,
   "metadata": {},
   "outputs": [
    {
     "name": "stdout",
     "output_type": "stream",
     "text": [
      "\n",
      "re = [1.9475 1.9475 1.9475]\n",
      "--> Elementvektor OK\n"
     ]
    }
   ],
   "source": [
    "\n",
    "def heatRe(w):\n",
    "    def computeRe(x):\n",
    "        u = x[:,1] - x[:,0]\n",
    "        v = x[:,2] - x[:,1]\n",
    "        Ae = abs(1/2 * (u[0]*v[1] - u[1]*v[0]))\n",
    "        Re = 1/3 * w * Ae * np.array([1, 1, 1])\n",
    "        return Re\n",
    "    return computeRe\n",
    "\n",
    "ref = heatRe(4.1)\n",
    "re = ref(x)\n",
    "\n",
    "print('\\nre =', re)\n",
    "if np.linalg.norm(re - reRef) < 1e-8:\n",
    "    print('--> Elementvektor OK')\n",
    "else:\n",
    "    print('--> Elementvektor nicht OK')\n",
    "\n"
   ]
  },
  {
   "cell_type": "code",
   "execution_count": null,
   "metadata": {},
   "outputs": [],
   "source": []
  }
 ],
 "metadata": {
  "interpreter": {
   "hash": "aee8b7b246df8f9039afb4144a1f6fd8d2ca17a180786b69acc140d282b71a49"
  },
  "kernelspec": {
   "display_name": "Python 3.9.9 64-bit",
   "language": "python",
   "name": "python3"
  },
  "language_info": {
   "codemirror_mode": {
    "name": "ipython",
    "version": 3
   },
   "file_extension": ".py",
   "mimetype": "text/x-python",
   "name": "python",
   "nbconvert_exporter": "python",
   "pygments_lexer": "ipython3",
   "version": "3.10.10"
  },
  "orig_nbformat": 4
 },
 "nbformat": 4,
 "nbformat_minor": 2
}
