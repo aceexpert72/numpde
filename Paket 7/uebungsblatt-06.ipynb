{
 "cells": [
  {
   "cell_type": "markdown",
   "metadata": {},
   "source": [
    "# Übungsblatt 6"
   ]
  },
  {
   "cell_type": "code",
   "execution_count": 1,
   "metadata": {},
   "outputs": [],
   "source": [
    "import numpy as np\n",
    "import matplotlib.pyplot as plt \n",
    "import math \n",
    "from objdict import ObjDict\n",
    "from fun\n",
    "\n",
    "%load_ext autoreload\n",
    "%autoreload"
   ]
  },
  {
   "cell_type": "markdown",
   "metadata": {},
   "source": [
    "## Aufgabe 2.2"
   ]
  },
  {
   "cell_type": "code",
   "execution_count": 2,
   "metadata": {},
   "outputs": [
    {
     "name": "stdout",
     "output_type": "stream",
     "text": [
      "[[ 1.28421053 -1.10526316 -0.17894737]\n",
      " [-1.10526316  1.23157895 -0.12631579]\n",
      " [-0.17894737 -0.12631579  0.30526316]]\n",
      "--> Element matrix not OK\n",
      "[1.9475 1.9475 1.9475]\n",
      "--> Element vector OK\n"
     ]
    }
   ],
   "source": [
    "def heatKe(lambder):\n",
    "    def computeKe(x):\n",
    "        Ke = np.zeros([3,3])\n",
    "        u = x[:,1] - x[:,0]\n",
    "        v = x[:,2] - x[:,1]\n",
    "        w = x[:,0] - x[:,2]\n",
    "        Ae = 1/2 * np.abs(np.cross(u,v))\n",
    "        Be = 1/(2*Ae) * np.array([[v[1],w[1],u[1]],[-v[0],-w[0],-u[0]]])\n",
    "        print('Be =',Be)\n",
    "        #print('BeT =',Be.T)\n",
    "        #print(np.dot(Be,Be.T))\n",
    "        Ke = lambder * Ae * np.dot(Be.T,Be) \n",
    "        print('Ke =',Ke)\n",
    "        return Ke\n",
    "    return computeKe\n",
    "\n",
    "def heatRe(w):\n",
    "    def computeRe(x):\n",
    "        u = x[:,1] - x[:,0]\n",
    "        v = x[:,2] - x[:,1]\n",
    "        Ae = abs(1/2 * (u[0]*v[1] - u[1]*v[0]))\n",
    "        Re = 1/3 * w * Ae * np.array([1, 1, 1])\n",
    "        return Re\n",
    "    return computeRe\n",
    "\n",
    "x = np.array([[0.0, 1.2, 0.3], [0.1, 0.2, 2.5]])\n",
    "\n",
    "keRef = np.array([\n",
    "    [1.39122807, -1.19736842, -0.19385965],\n",
    "    [-1.19736842, 1.33421053, -0.13684211],\n",
    "    [-0.19385965, -0.13684211, 0.33070175]\n",
    "])\n",
    "\n",
    "reRef = np.array([1.9475, 1.9475, 1.9475])\n",
    "\n",
    "kef = heatKe(1.2)\n",
    "ke = kef(x)\n",
    "\n",
    "print(ke)\n",
    "\n",
    "if np.linalg.norm(ke - keRef) < 1e-8:\n",
    "    print(\"--> Element matrix OK\")\n",
    "else:\n",
    "    print(\"--> Element matrix not OK\")\n",
    "\n",
    "ref = heatRe(4.1)\n",
    "re = ref(x)\n",
    "\n",
    "print(re)\n",
    "if np.linalg.norm(re - reRef) < 1e-8:\n",
    "    print(\"--> Element vector OK\")\n",
    "else:\n",
    "    print(\"--> Element vector not OK\")"
   ]
  },
  {
   "cell_type": "markdown",
   "metadata": {},
   "source": [
    "## Aufgabe 2.4"
   ]
  },
  {
   "cell_type": "markdown",
   "metadata": {},
   "source": []
  }
 ],
 "metadata": {
  "kernelspec": {
   "display_name": "Python 3",
   "language": "python",
   "name": "python3"
  },
  "language_info": {
   "codemirror_mode": {
    "name": "ipython",
    "version": 3
   },
   "file_extension": ".py",
   "mimetype": "text/x-python",
   "name": "python",
   "nbconvert_exporter": "python",
   "pygments_lexer": "ipython3",
   "version": "3.10.10"
  }
 },
 "nbformat": 4,
 "nbformat_minor": 2
}
