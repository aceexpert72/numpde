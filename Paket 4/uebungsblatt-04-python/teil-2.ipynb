{
 "cells": [
  {
   "cell_type": "markdown",
   "metadata": {},
   "source": [
    "# Finite Elemente Lösung Bohrpfahl"
   ]
  },
  {
   "cell_type": "code",
   "execution_count": null,
   "metadata": {},
   "outputs": [],
   "source": [
    "from fem import *\n",
    "from pile import *\n",
    "from math import *\n",
    "import numpy as np\n",
    "from objdict import ObjDict\n",
    "import matplotlib.pyplot as plt\n",
    "\n",
    "%load_ext autoreload\n",
    "%autoreload 2"
   ]
  },
  {
   "cell_type": "markdown",
   "metadata": {},
   "source": [
    "## Parameter"
   ]
  },
  {
   "cell_type": "code",
   "execution_count": null,
   "metadata": {},
   "outputs": [],
   "source": [
    "p = ObjDict()\n",
    "\n",
    "# Ausgangswerte\n",
    "p.E = 35e9\n",
    "p.d = 0.8\n",
    "p.l = 20\n",
    "p.F = 2e6\n",
    "p.rho = 2500\n",
    "p.g = 9.81\n",
    "p.C = 1.75e7 * pi * p.d\n",
    "p.S = 120e6\n",
    "\n",
    "# Abgeleitet\n",
    "p.A = pi * p.d**2 / 4\n",
    "p.EA = p.E * p.A\n",
    "p.n = p.g * p.rho * p.A\n",
    "\n",
    "# Ausgeben\n",
    "print(p)"
   ]
  },
  {
   "cell_type": "markdown",
   "metadata": {},
   "source": [
    "## Exakte Lösung"
   ]
  },
  {
   "cell_type": "code",
   "execution_count": null,
   "metadata": {},
   "outputs": [],
   "source": [
    "a1 = 3 + 7 * pi\n",
    "a2 = 7 * pi - 3\n",
    "\n",
    "def u(x):\n",
    "    return np.exp(-x / 20) / (3500000 * pi * (a1 * np.exp(2) - a2)) * (\n",
    "            25000 * (a1 * np.exp(2) + a2 * np.exp(x / 10)) -\n",
    "            2943 * pi * np.exp(1) * (np.exp(x / 10) + 1) +\n",
    "            981 * pi * np.exp(x / 20) * (a1 * np.exp(2) - a2) \n",
    "        )\n",
    "\n",
    "def N(x):\n",
    "    return - 80 * np.exp(-x / 20) / (a1 * np.exp(2) - a2) * (\n",
    "        25000 * (a1 * np.exp(2) - a2 * np.exp(x / 10)) +\n",
    "        2943 * pi * np.exp(1) * (np.exp(x / 10) - 1)\n",
    "    )"
   ]
  },
  {
   "cell_type": "markdown",
   "metadata": {},
   "source": [
    "Kontrolle"
   ]
  },
  {
   "cell_type": "code",
   "execution_count": null,
   "metadata": {},
   "outputs": [],
   "source": [
    "print('u( 0) =', u(0))\n",
    "print('u(20) =', u(20))\n",
    "print('N( 0) =', N(0))\n",
    "print('N(20) =', N(20))"
   ]
  },
  {
   "cell_type": "markdown",
   "metadata": {},
   "source": [
    "Referenzlösungen"
   ]
  },
  {
   "cell_type": "code",
   "execution_count": null,
   "metadata": {},
   "outputs": [],
   "source": [
    "xR = np.linspace(0, p.l, 1000)\n",
    "uR = u(xR)\n",
    "nR = N(xR)"
   ]
  },
  {
   "cell_type": "markdown",
   "metadata": {},
   "source": [
    "Plots"
   ]
  },
  {
   "cell_type": "code",
   "execution_count": null,
   "metadata": {},
   "outputs": [],
   "source": [
    "plt.plot(xR, uR)\n",
    "plt.title('Displacement $u$')\n",
    "plt.figure()\n",
    "plt.plot(xR, nR)\n",
    "plt.title('Axial force $N$')"
   ]
  },
  {
   "cell_type": "markdown",
   "metadata": {},
   "source": [
    "## Funktion `pile_fem`\n",
    "\n",
    "Funktion"
   ]
  },
  {
   "cell_type": "code",
   "execution_count": null,
   "metadata": {},
   "outputs": [],
   "source": [
    "def pile_fem(p, k):\n",
    "\n",
    "    # TODO: Implementieren\n",
    "\n",
    "    # Return \n",
    "    # return xH, uHat\n",
    "    return 99\n",
    "\n",
    "pile_fem(p, 4)"
   ]
  },
  {
   "cell_type": "markdown",
   "metadata": {},
   "source": [
    "Kontrolle für $N_e = 3$"
   ]
  },
  {
   "cell_type": "code",
   "execution_count": null,
   "metadata": {},
   "outputs": [],
   "source": [
    "xH, uHat = pile_fem(p, 2)\n",
    "plt.plot(xR, uR, xH, uHat, '-o')\n",
    "print('uHat = 1e-3 *', 1e3 * uHat, '^T')"
   ]
  },
  {
   "cell_type": "markdown",
   "metadata": {},
   "source": [
    "## Näherungslösungen für $k = 2, 4, 8, \\dots, 256$ Elemente"
   ]
  },
  {
   "cell_type": "code",
   "execution_count": null,
   "metadata": {},
   "outputs": [],
   "source": [
    "plt.plot(xR, uR)\n",
    "\n",
    "for k in 2**np.arange(1, 9):\n",
    "    xH, uHat = pile_fem(p, k)\n",
    "    plt.plot(xH, uHat)"
   ]
  },
  {
   "cell_type": "markdown",
   "metadata": {},
   "source": [
    "## Fehlerfunktion für $k = 2, 4, 8, \\dots, 256$ Elemente"
   ]
  },
  {
   "cell_type": "code",
   "execution_count": null,
   "metadata": {},
   "outputs": [],
   "source": [
    "for k in 2**np.arange(1, 9):\n",
    "    xH, uHat = pile_fem(p, k)\n",
    "    e = np.interp(xR, xH, uHat) - uR\n",
    "    plt.plot(xR, e)"
   ]
  },
  {
   "cell_type": "markdown",
   "metadata": {},
   "source": [
    "## Fehler für $k = 2, 4, 8, \\dots, 8192$ Elemente"
   ]
  },
  {
   "cell_type": "code",
   "execution_count": null,
   "metadata": {},
   "outputs": [],
   "source": [
    "from compute_error import compute_error\n",
    "\n",
    "es = []\n",
    "ks = 2**np.arange(1, 14)\n",
    "hs = p.l / ks\n",
    "\n",
    "for k in ks:\n",
    "    xH, uHat = pile_fem(p, k)\n",
    "    es.append(compute_error(u, xH, uHat))"
   ]
  },
  {
   "cell_type": "markdown",
   "metadata": {},
   "source": [
    "Fehler in normalem Plot"
   ]
  },
  {
   "cell_type": "code",
   "execution_count": null,
   "metadata": {},
   "outputs": [],
   "source": [
    "plt.plot(hs, es, '-o');"
   ]
  },
  {
   "cell_type": "markdown",
   "metadata": {},
   "source": [
    "Fehler in loglog-Plot"
   ]
  },
  {
   "cell_type": "code",
   "execution_count": null,
   "metadata": {},
   "outputs": [],
   "source": [
    "plt.plot(hs, es, '-o')\n",
    "plt.loglog()"
   ]
  },
  {
   "cell_type": "markdown",
   "metadata": {},
   "source": [
    "Steigung der Geraden im loglog-Plot"
   ]
  },
  {
   "cell_type": "code",
   "execution_count": null,
   "metadata": {},
   "outputs": [],
   "source": [
    "n = (log(es[0]) - log(es[-2])) / (log(hs[0]) - log(hs[-2]))\n",
    "print('n =', n)"
   ]
  },
  {
   "cell_type": "markdown",
   "metadata": {},
   "source": [
    "## Normalkraft"
   ]
  },
  {
   "cell_type": "code",
   "execution_count": null,
   "metadata": {},
   "outputs": [],
   "source": [
    "# Exakte Lösung\n",
    "plt.plot(xR, nR)\n",
    "\n",
    "# Näherungen\n",
    "for k in 2**np.arange(1, 9):\n",
    "    xH, uHat = pile_fem(p, k)\n",
    "    nH = p.EA * k / p.l * np.diff(uHat)\n",
    "    nH = np.append(nH[0], nH)\n",
    "    plt.step(xH, nH)"
   ]
  }
 ],
 "metadata": {
  "interpreter": {
   "hash": "aee8b7b246df8f9039afb4144a1f6fd8d2ca17a180786b69acc140d282b71a49"
  },
  "kernelspec": {
   "display_name": "Python 3.9.7 64-bit",
   "name": "python3"
  },
  "language_info": {
   "codemirror_mode": {
    "name": "ipython",
    "version": 3
   },
   "file_extension": ".py",
   "mimetype": "text/x-python",
   "name": "python",
   "nbconvert_exporter": "python",
   "pygments_lexer": "ipython3",
   "version": "3.9.7"
  },
  "orig_nbformat": 4
 },
 "nbformat": 4,
 "nbformat_minor": 2
}
