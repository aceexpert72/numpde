{
 "cells": [
  {
   "cell_type": "markdown",
   "metadata": {},
   "source": [
    "# Übungsblatt 4"
   ]
  },
  {
   "cell_type": "code",
   "execution_count": 2,
   "metadata": {},
   "outputs": [],
   "source": [
    "import numpy as np\n",
    "from objdict import ObjDict\n",
    "\n",
    "%load_ext autoreload\n",
    "%autoreload 2"
   ]
  },
  {
   "cell_type": "markdown",
   "metadata": {},
   "source": [
    "## Aufgabe 3.1\n",
    "\n",
    "Wichtig: Anders als in Matlab beginnnen Indizes in Python bei 0. Also ist $I = [5, 0]^T$ und nicht $I = [6, 1]^T$ wie auf dem Aufgabenblatt. Schauen Sie für diese Aufgabe auch nochmal im [Python Skript](https://matthiasbaitsch.github.io/python_numerik_quickstart/intro.html) nach. Unter Anderem wird die Funktion `np.ix_` benötigt."
   ]
  },
  {
   "cell_type": "code",
   "execution_count": 3,
   "metadata": {},
   "outputs": [],
   "source": [
    "# TODO"
   ]
  },
  {
   "cell_type": "markdown",
   "metadata": {},
   "source": [
    "## Aufgabe 3.2\n",
    "\n",
    "Wichtig: Damit die Dinge später auch für 2D funktionieren, müssen die Knotenkoordinaten in einer Matrix abgelegt werden, auch wenn es hier in einem Vektor ausreichen würde. Unten ein Beispiel für eine Matrix mit eine Zeile."
   ]
  },
  {
   "cell_type": "code",
   "execution_count": 6,
   "metadata": {},
   "outputs": [
    {
     "name": "stdout",
     "output_type": "stream",
     "text": [
      "[[ 5  1 99]]\n"
     ]
    }
   ],
   "source": [
    "# TODO\n",
    "\n",
    "A = np.array([[5, 1, 9]])\n",
    "A[0, 2] = 99\n",
    "\n",
    "print(A)\n"
   ]
  },
  {
   "cell_type": "markdown",
   "metadata": {},
   "source": [
    "## Aufgabe 3.3\n",
    "\n",
    "Implementieren Sie die Funktionen `pileKe` und `pileRe` in `pile.py`. Die Funktion `assembleKr` wird später weiter benötigt und kommt daher in eine eigene Datei `fem.py`."
   ]
  },
  {
   "cell_type": "code",
   "execution_count": 10,
   "metadata": {},
   "outputs": [
    {
     "ename": "ModuleNotFoundError",
     "evalue": "No module named 'fem'",
     "output_type": "error",
     "traceback": [
      "\u001b[0;31m---------------------------------------------------------------------------\u001b[0m",
      "\u001b[0;31mModuleNotFoundError\u001b[0m                       Traceback (most recent call last)",
      "\u001b[0;32m/var/folders/j8/srx366hn5834sbj00b6mz9_40000gp/T/ipykernel_89493/3424769009.py\u001b[0m in \u001b[0;36m<module>\u001b[0;34m\u001b[0m\n\u001b[0;32m----> 1\u001b[0;31m \u001b[0;32mfrom\u001b[0m \u001b[0mfem\u001b[0m \u001b[0;32mimport\u001b[0m \u001b[0;34m*\u001b[0m\u001b[0;34m\u001b[0m\u001b[0;34m\u001b[0m\u001b[0m\n\u001b[0m\u001b[1;32m      2\u001b[0m \u001b[0;32mfrom\u001b[0m \u001b[0mpile\u001b[0m \u001b[0;32mimport\u001b[0m \u001b[0;34m*\u001b[0m\u001b[0;34m\u001b[0m\u001b[0;34m\u001b[0m\u001b[0m\n\u001b[1;32m      3\u001b[0m \u001b[0;34m\u001b[0m\u001b[0m\n\u001b[1;32m      4\u001b[0m \u001b[0;31m# Beispiel\u001b[0m\u001b[0;34m\u001b[0m\u001b[0;34m\u001b[0m\u001b[0m\n\u001b[1;32m      5\u001b[0m \u001b[0ms\u001b[0m \u001b[0;34m=\u001b[0m \u001b[0mObjDict\u001b[0m\u001b[0;34m(\u001b[0m\u001b[0;34m)\u001b[0m\u001b[0;34m\u001b[0m\u001b[0;34m\u001b[0m\u001b[0m\n",
      "\u001b[0;31mModuleNotFoundError\u001b[0m: No module named 'fem'"
     ]
    }
   ],
   "source": [
    "from functions import assembleKr\n",
    "from functions import pileKe\n",
    "from functions import pileRe\n",
    "\n",
    "# Beispiel\n",
    "s = ObjDict()\n",
    "s.nodes = np.array([[0, 10, 20]])\n",
    "s.elements = np.array([[0, 1], [1, 2]])\n",
    "\n",
    "# TODO: Schritt für Schritt zum Laufen bringen...\n",
    "\n",
    "# s.keFunc = pileKe(10, 20)\n",
    "# s.reFunc = pileRe(15)\n",
    "\n",
    "# Elementweise\n",
    "# print('Ke =', s.keFunc(s.nodes[:, s.elements[:, 0]]))\n",
    "# print('re =', s.reFunc(s.nodes[:, s.elements[:, 0]]))\n",
    "\n",
    "# Global\n",
    "# K, r = assembleKr(s)\n",
    "# print('K =', K)\n",
    "# print('r =', r)"
   ]
  },
  {
   "cell_type": "code",
   "execution_count": null,
   "metadata": {},
   "outputs": [],
   "source": []
  }
 ],
 "metadata": {
  "interpreter": {
   "hash": "aee8b7b246df8f9039afb4144a1f6fd8d2ca17a180786b69acc140d282b71a49"
  },
  "kernelspec": {
   "display_name": "Python 3.9.7 64-bit",
   "language": "python",
   "name": "python3"
  },
  "language_info": {
   "codemirror_mode": {
    "name": "ipython",
    "version": 3
   },
   "file_extension": ".py",
   "mimetype": "text/x-python",
   "name": "python",
   "nbconvert_exporter": "python",
   "pygments_lexer": "ipython3",
   "version": "3.9.7"
  },
  "orig_nbformat": 4
 },
 "nbformat": 4,
 "nbformat_minor": 2
}
