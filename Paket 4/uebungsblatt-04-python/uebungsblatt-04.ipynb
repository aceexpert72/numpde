{
 "cells": [
  {
   "cell_type": "markdown",
   "metadata": {},
   "source": [
    "# Übungsblatt 4\n"
   ]
  },
  {
   "cell_type": "code",
   "execution_count": 1,
   "metadata": {},
   "outputs": [],
   "source": [
    "import numpy as np\n",
    "import matplotlib.pyplot as plt \n",
    "import math \n",
    "from objdict import ObjDict\n",
    "\n",
    "%load_ext autoreload\n",
    "%autoreload"
   ]
  },
  {
   "cell_type": "markdown",
   "metadata": {},
   "source": [
    "## Aufgabe 3.1\n",
    "\n",
    "Zeigen Sie, dass sich dasselbe Ergebnis auch mit einer Assemblierungsmatrix erzielen\n",
    "lasst.\n",
    "\n",
    "K = zeros(6, 6);\n",
    "I = [6, 1];\n",
    "Ke = [1, 2; 3, 4];\n",
    "K(I, I) = K(I, I) + Ke;"
   ]
  },
  {
   "cell_type": "code",
   "execution_count": 2,
   "metadata": {},
   "outputs": [
    {
     "name": "stdout",
     "output_type": "stream",
     "text": [
      "[[4. 0. 0. 0. 3.]\n",
      " [0. 0. 0. 0. 0.]\n",
      " [0. 0. 0. 0. 0.]\n",
      " [0. 0. 0. 0. 0.]\n",
      " [2. 0. 0. 0. 1.]]\n"
     ]
    }
   ],
   "source": [
    "# Übersetzt in Python\n",
    "K = np.zeros((6,6))\n",
    "I = [5,0]\n",
    "Ke = np.array([[1,2],[3,4]])\n",
    "K[np.ix_(I,I)] += Ke \n",
    "#print(K)\n",
    "\n",
    "def addKe(K, index, Ke):\n",
    "    for i, I in enumerate(index):\n",
    "        for j, J in enumerate(index):\n",
    "            K[I, J] += Ke[i, j]\n",
    "    return K\n",
    "\n",
    "Ne = 5\n",
    "K = np.zeros((Ne, Ne))\n",
    "I = [Ne-1, 0] \n",
    "Ke = np.array([[1, 2], [3, 4]]) #lokale Steifigkeitsmatrix Ke\n",
    "\n",
    "K = addKe(K, I, Ke) #lokale Matrix Ke auf Globale Matrix überführen\n",
    "print(K)"
   ]
  },
  {
   "cell_type": "markdown",
   "metadata": {},
   "source": [
    "## Aufgabe 3.2\n",
    "\n",
    "Erzeugen Sie in Matlab die FE-Datenstruktur für das Netz aus Aufgabe 1.1 (es sei\n",
    "x3 = 0 und x2 = 20). Geben Sie mithilfe einer Schleife die Knotenkoordinaten aller\n",
    "Elemente aus."
   ]
  },
  {
   "cell_type": "code",
   "execution_count": 3,
   "metadata": {},
   "outputs": [
    {
     "name": "stdout",
     "output_type": "stream",
     "text": [
      "[array([ 5, 10]), array([15, 20]), array([10, 15]), array([0, 5])]\n"
     ]
    }
   ],
   "source": [
    "s = ObjDict()\n",
    "s.nodes = np.array([5, 20, 0, 10, 15])\n",
    "s.elements = np.array([[1,5,4,3],[4,2,5,1]])\n",
    "\n",
    "Ne = len(s.elements[0])+1\n",
    "\n",
    "cords = []\n",
    "for i in np.array(range(1, Ne)): \n",
    "    I = np.array(s.elements[:,i-1])\n",
    "    I = I.reshape([2,1])\n",
    "    xi = s.nodes[I.flatten()-1]\n",
    "    cords.append(xi)\n",
    "\n",
    "print(cords)"
   ]
  },
  {
   "cell_type": "markdown",
   "metadata": {},
   "source": [
    "## Aufgabe 3.3\n",
    "Implementieren Sie die Funktionen pileKe, pileRe und assembleKr wie im Video\n",
    "erläutert. Nutzen Sie ein Live-Skript um die Funktionen zu testen."
   ]
  },
  {
   "cell_type": "code",
   "execution_count": 4,
   "metadata": {},
   "outputs": [
    {
     "name": "stdout",
     "output_type": "stream",
     "text": [
      "[[ 1.81762522e+09 -1.73012522e+09  0.00000000e+00]\n",
      " [-1.73012522e+09  3.63525044e+09 -1.73012522e+09]\n",
      " [ 0.00000000e+00 -1.73012522e+09  1.81762522e+09]]\n",
      "[ 61638.04786343 123276.09572686  61638.04786343]\n"
     ]
    }
   ],
   "source": [
    "s = ObjDict()\n",
    "s.E = 35e9  \n",
    "s.d = 0.8  \n",
    "s.l = 20  \n",
    "s.F = 2e6  \n",
    "s.rho = 2500  \n",
    "s.g = 9.81  \n",
    "s.C = 1.75e7  \n",
    "s.S = 120e6\n",
    "s.A = np.pi * (s.d / 2)**2\n",
    "s.EA = s.E * s.A  \n",
    "s.n = s.g * s.rho * s.A\n",
    "s.nodes = np.array([[0,10,20],[0,0,0]])\n",
    "s.elements = np.array([[0,1],[1,2]])\n",
    "\n",
    "from pile import *\n",
    "\n",
    "xe = s.nodes[:,s.elements[:,1]]\n",
    "\n",
    "s.keFunc = pileKe(s)\n",
    "s.keFunc(xe)\n",
    "\n",
    "s.reFunc = pileRe(s)\n",
    "s.reFunc(xe)\n",
    "\n",
    "from fem import assembleKr\n",
    "\n",
    "K, r = assembleKr(s)\n",
    "print(K)\n",
    "print(r)\n",
    "\n"
   ]
  },
  {
   "cell_type": "markdown",
   "metadata": {},
   "source": [
    "## Aufgabe 3.4\n",
    "Kopieren Sie den Programmcode von Übungsblatt 3 und ändern Sie die Funktion\n",
    "pileFEM dahingehend, dass die Berechnung mithilfe der Funktionen aus Aufgabe 3.3\n",
    "erfolgt."
   ]
  },
  {
   "cell_type": "code",
   "execution_count": 11,
   "metadata": {},
   "outputs": [
    {
     "name": "stdout",
     "output_type": "stream",
     "text": [
      "[[ 1.81762522e+09 -1.73012522e+09  0.00000000e+00]\n",
      " [-1.73012522e+09  3.63525044e+09 -1.73012522e+09]\n",
      " [ 0.00000000e+00 -1.73012522e+09  1.81762522e+09]]\n",
      "[ 61638.04786343 123276.09572686  61638.04786343]\n",
      "[[ 1.81762522e+09 -1.73012522e+09  0.00000000e+00]\n",
      " [-1.73012522e+09  3.63525044e+09 -1.73012522e+09]\n",
      " [ 0.00000000e+00 -1.73012522e+09  1.93762522e+09]]\n",
      "[2061638.04786343  123276.09572686   61638.04786343]\n"
     ]
    }
   ],
   "source": [
    "from fem import *\n",
    "from pile import *\n",
    "\n",
    "s = ObjDict()\n",
    "s.E = 35e9  \n",
    "s.d = 0.8  \n",
    "s.l = 20  \n",
    "s.F = 2e6  \n",
    "s.rho = 2500  \n",
    "s.g = 9.81  \n",
    "s.C = 1.75e7  \n",
    "s.S = 120e6\n",
    "s.A = np.pi * (s.d / 2)**2\n",
    "s.EA = s.E * s.A  \n",
    "s.n = s.g * s.rho * s.A\n",
    "\n",
    "\n",
    "k = 2\n",
    "\n",
    "def pileFEM2(s,k):\n",
    "    m = ObjDict()\n",
    "    m.nodes = np.array([np.linspace(0,s.l,k+1),np.linspace(0,0,k+1)])\n",
    "    m.elements = np.array([np.arange(0,k,1,),np.arange(1,k+1,1)])\n",
    "    m.keFunc = pileKe(s)\n",
    "    m.reFunc = pileRe(s)\n",
    "\n",
    "    K, r = assembleKr(m)\n",
    "\n",
    "    print(K)\n",
    "    print(r)\n",
    "\n",
    "    K[-1, -1] += s.S\n",
    "    r[0] += s.F\n",
    "\n",
    "    print(K)\n",
    "    print(r)\n",
    "\n",
    "    uHatK = np.linalg.solve(K,r)\n",
    "    xK = np.linspace (0, s.l, k+1)\n",
    "    return xK, uHatK\n",
    "\n",
    "#pileFEM2(s,k)\n",
    "\n",
    "xK,uHatK = pileFEM2(s,k)\n",
    "\n",
    "#print(xK)\n",
    "#print(uHatK)"
   ]
  },
  {
   "cell_type": "code",
   "execution_count": null,
   "metadata": {},
   "outputs": [],
   "source": []
  }
 ],
 "metadata": {
  "kernelspec": {
   "display_name": "Python 3",
   "language": "python",
   "name": "python3"
  },
  "language_info": {
   "codemirror_mode": {
    "name": "ipython",
    "version": 3
   },
   "file_extension": ".py",
   "mimetype": "text/x-python",
   "name": "python",
   "nbconvert_exporter": "python",
   "pygments_lexer": "ipython3",
   "version": "3.10.10"
  }
 },
 "nbformat": 4,
 "nbformat_minor": 2
}
